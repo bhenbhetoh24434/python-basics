{
 "cells": [
  {
   "cell_type": "code",
   "execution_count": 1,
   "metadata": {},
   "outputs": [
    {
     "name": "stdout",
     "output_type": "stream",
     "text": [
      "enter the number: 3\n",
      "The factor of 3 is 1\n",
      "The factor of 3 is 3\n"
     ]
    }
   ],
   "source": [
    "#python programm to output the factor of number n\n",
    "n = eval(input('enter the number: '))\n",
    "for i in range(1,n+1):\n",
    "    if n%i==0:\n",
    "        print('The factor of',n,'is',i)    \n",
    "        "
   ]
  },
  {
   "cell_type": "code",
   "execution_count": 8,
   "metadata": {},
   "outputs": [
    {
     "name": "stdout",
     "output_type": "stream",
     "text": [
      "enter the number: 12\n",
      "0\n",
      "1\n",
      "1\n",
      "2\n",
      "3\n",
      "5\n",
      "8\n",
      "13\n",
      "21\n",
      "34\n",
      "55\n",
      "89\n"
     ]
    }
   ],
   "source": [
    "#programm for fibonacci sequence of number\n",
    "n = int(input('enter the number: '))\n",
    "first_fib = 0\n",
    "second_fib = 1\n",
    "if n==1:\n",
    "    print(first_fib)\n",
    "else:\n",
    "    print(first_fib)\n",
    "    print(second_fib)\n",
    "for i in range(2,n):\n",
    "    third_fib = first_fib + second_fib\n",
    "    first_fib = second_fib\n",
    "    second_fib = third_fib\n",
    "    print(third_fib)    \n",
    "    "
   ]
  },
  {
   "cell_type": "code",
   "execution_count": null,
   "metadata": {},
   "outputs": [],
   "source": [
    "# question 1 python programm\n",
    "student_name = input('enter the name of the student: ')\n",
    "matric_number = (input('enter the matric_number: '))\n",
    "department = input('enter the user department: ')\n",
    "home_address = input('enter the home_address: ')\n",
    "phone_number = int(input('enter the phone_number of the user: '))\n",
    "email_address = input('enter the email_address: ')\n",
    "print('My name is',student_name,'with matric_number',matric_number,'from the department of',department,'with home address',home_address,'and phone number',phone_number,'with gmail account',email_address)\n"
   ]
  }
 ],
 "metadata": {
  "kernelspec": {
   "display_name": "Python 3",
   "language": "python",
   "name": "python3"
  },
  "language_info": {
   "codemirror_mode": {
    "name": "ipython",
    "version": 3
   },
   "file_extension": ".py",
   "mimetype": "text/x-python",
   "name": "python",
   "nbconvert_exporter": "python",
   "pygments_lexer": "ipython3",
   "version": "3.7.4"
  }
 },
 "nbformat": 4,
 "nbformat_minor": 2
}
